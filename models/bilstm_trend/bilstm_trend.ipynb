{
 "cells": [
  {
   "cell_type": "markdown",
   "metadata": {},
   "source": [
    "# BiLSTM Model for predicting trend"
   ]
  },
  {
   "cell_type": "code",
   "execution_count": 33,
   "metadata": {},
   "outputs": [],
   "source": [
    "#imports\n",
    "import numpy as np\n",
    "from math import sqrt\n",
    "from numpy import concatenate\n",
    "\n",
    "import sklearn\n",
    "from sklearn.preprocessing import MinMaxScaler\n",
    "from sklearn.preprocessing import LabelEncoder\n",
    "from sklearn.metrics import mean_squared_error\n",
    "from sklearn.utils import shuffle\n",
    "import joblib \n",
    "\n",
    "from matplotlib import pyplot\n",
    "from matplotlib import pyplot as plt\n",
    "from matplotlib.pyplot import figure\n",
    "\n",
    "import pandas as pd\n",
    "from pandas import read_csv\n",
    "from pandas import DataFrame\n",
    "from pandas import concat\n",
    "\n",
    "\n",
    "import keras.utils\n",
    "from keras.models import Sequential\n",
    "from keras.layers import Dropout\n",
    "from keras.layers import Activation\n",
    "from keras.layers import Bidirectional\n",
    "from keras.layers import Dense\n",
    "from keras.layers import LSTM\n",
    "from keras.optimizers import Adam\n",
    "\n",
    "import tensorflow as tf\n",
    "import seaborn as sn\n",
    "import seed\n",
    "import os\n",
    "tf.get_logger().setLevel('ERROR')"
   ]
  },
  {
   "cell_type": "code",
   "execution_count": 34,
   "metadata": {},
   "outputs": [],
   "source": [
    "\"\"\"\n",
    "method to create lagged features\n",
    "\n",
    "data - data\n",
    "to_keep - number of lagged_features\n",
    "to_remove - number of days to remove\n",
    "\n",
    "\"\"\"\n",
    "def create_lagged_features(data, to_keep=1, to_remove=1):\n",
    "    variables = 1 if type(data) is list else data.shape[1]\n",
    "    df = DataFrame(data)\n",
    "    columns, names = list(), list()\n",
    "    \n",
    "    for i in range(to_keep, 0, -1):\n",
    "        columns.append(df.shift(i))\n",
    "        names += [('var%d(t-%d)' % (j+1, i)) for j in range(variables)]\n",
    "\n",
    "    for i in range(0, to_remove):\n",
    "        columns.append(df.shift(-i))\n",
    "        if i == 0:\n",
    "            names += [('var%d(t)' % (j+1)) for j in range(variables)]\n",
    "        else:\n",
    "            names += [('var%d(t+%d)' % (j+1, i)) for j in range(variables)]\n",
    "            \n",
    "    #put it all together\n",
    "    final = concat(columns, axis=1)\n",
    "    final.columns = names\n",
    "    \n",
    "    #drop rows with NaN values\n",
    "    final.dropna(inplace=True)\n",
    "        \n",
    "    return final"
   ]
  },
  {
   "cell_type": "code",
   "execution_count": 68,
   "metadata": {},
   "outputs": [],
   "source": [
    "\"\"\"\n",
    "function to calculate rsi\n",
    "\n",
    "data - data\n",
    "period - RSI period\n",
    "\n",
    "\"\"\"\n",
    "def rsi(data, period: int = 14):\n",
    "    \n",
    "    delta = data[\"Close\"].diff()\n",
    "\n",
    "    up, down = delta.copy(), delta.copy()\n",
    "    up[up < 0] = 0\n",
    "    down[down > 0] = 0\n",
    "\n",
    "    gain = up.ewm(com=(period - 1), min_periods=period).mean()\n",
    "    loss = down.abs().ewm(com=(period - 1), min_periods=period).mean()\n",
    "\n",
    "    RS = gain / loss\n",
    "    return 100 - (100 / (1 + RS))"
   ]
  },
  {
   "cell_type": "code",
   "execution_count": 69,
   "metadata": {},
   "outputs": [],
   "source": [
    "#lag granularity - days or hours\n",
    "lag_granularity = \"days\"\n",
    "#lag value\n",
    "lag = 1\n",
    "# type of analyser - TextBlob or vader\n",
    "analyser = \"vader\"\n",
    "# analyser = \"TextBlob\"\n",
    "#dataset grouped type - day or hour\n",
    "dataset_grouped_by = \"day\""
   ]
  },
  {
   "cell_type": "code",
   "execution_count": 70,
   "metadata": {},
   "outputs": [],
   "source": [
    "#read dataset\n",
    "folder = \"./../../datasets/tweets_prices_volumes_sentiment/\"+analyser+\"/\"+dataset_grouped_by+\"_datasets/cleaned\"\n",
    "filename = folder+\"/final_data_lag_\"+lag_granularity+\"_\"+str(lag)+\".csv\" if (lag > 0) else folder+\"/final_data_no_lag.csv\"\n",
    "df = pd.read_csv(filename)"
   ]
  },
  {
   "cell_type": "code",
   "execution_count": 71,
   "metadata": {},
   "outputs": [],
   "source": [
    "#group by datetime\n",
    "df = df.groupby('DateTime').agg(lambda x: x.mean())"
   ]
  },
  {
   "cell_type": "code",
   "execution_count": 72,
   "metadata": {},
   "outputs": [],
   "source": [
    "#get change label\n",
    "df[\"Change\"] = (df[\"Close\"] > df[\"Close\"].shift(1)).astype(int)\n",
    "\n",
    "add_RSI = False\n",
    "add_longMAvg = False\n",
    "add_shortMAvg = False\n",
    "\n",
    "if(add_RSI):\n",
    "    #calcualte RSI\n",
    "    RSI = 14\n",
    "    df['RSI'] = rsi(df, RSI)\n",
    "    df = df.iloc[RSI:]\n",
    "\n",
    "#calculate moving averages\n",
    "if(add_shortMAvg):\n",
    "    short_window = 9\n",
    "    df['short_mavg'] = df.rolling(window=short_window)[\"Close\"].mean()\n",
    "    \n",
    "if(add_longMAvg):\n",
    "    long_window = 21\n",
    "    df[\"long_mavg\"] = df.rolling(window=long_window)[\"Close\"].mean()\n",
    "    \n",
    "if(add_longMAvg):\n",
    "    df = df.iloc[long_window:]\n",
    "elif(add_RSI):\n",
    "    df = df.iloc[RSI:]\n",
    "elif(add_shortMAvg):\n",
    "    df = df.iloc[short_window:]"
   ]
  },
  {
   "cell_type": "code",
   "execution_count": 73,
   "metadata": {},
   "outputs": [],
   "source": [
    "#keep only wanted columns\n",
    "features = ['Change', 'subjectivity', 'polarity','Tweet_vol','Volume_(BTC)'] if analyser == \"Textblob\" else ['Change', 'Close', 'pos_pol', 'neg_pol', 'Tweet_vol']\n",
    "\n",
    "if(add_RSI):\n",
    "    features.append(\"RSI\")\n",
    "    \n",
    "if(add_longMAvg):\n",
    "    features.append(\"long_mavg\")\n",
    "    \n",
    "if(add_shortMAvg):\n",
    "    features.append(\"short_mavg\")\n",
    "\n",
    "df = df[features]"
   ]
  },
  {
   "cell_type": "code",
   "execution_count": 74,
   "metadata": {},
   "outputs": [
    {
     "data": {
      "image/png": "[encoded data removed]",
      "text/plain": [
       "<Figure size 432x288 with 2 Axes>"
      ]
     },
     "metadata": {
      "needs_background": "light"
     },
     "output_type": "display_data"
    }
   ],
   "source": [
    "#plot correlation matrix\n",
    "sn.heatmap(df.corr(), annot=True)\n",
    "plt.show()"
   ]
  },
  {
   "cell_type": "code",
   "execution_count": 75,
   "metadata": {},
   "outputs": [],
   "source": [
    "#creating copy so that data is not loaded once again\n",
    "df_copy = df.copy()"
   ]
  },
  {
   "cell_type": "code",
   "execution_count": 76,
   "metadata": {},
   "outputs": [],
   "source": [
    "#number of previous records to consider for every example\n",
    "n_lag = 7\n",
    "#number of features\n",
    "n_features = len(features)\n",
    "#calculate total_features\n",
    "total_features = n_lag*n_features\n",
    "\n",
    "if(total_features == 0):\n",
    "    total_features = n_features"
   ]
  },
  {
   "cell_type": "code",
   "execution_count": 77,
   "metadata": {},
   "outputs": [],
   "source": [
    "#add lagged data to records\n",
    "data_with_lagged = create_lagged_features(df_copy, n_lag, 1)\n",
    "data_with_lagged = data_with_lagged.reset_index()\n",
    "data_with_lagged = data_with_lagged.drop(['DateTime'], axis=1)"
   ]
  },
  {
   "cell_type": "code",
   "execution_count": 78,
   "metadata": {},
   "outputs": [],
   "source": [
    "#shuffle data\n",
    "np.random.seed(1)\n",
    "#shuffle times \n",
    "shuffle_times = 5;\n",
    "for j in range(0, shuffle_times+1):\n",
    "    data_with_lagged = shuffle(data_with_lagged)"
   ]
  },
  {
   "cell_type": "code",
   "execution_count": 79,
   "metadata": {},
   "outputs": [],
   "source": [
    "#divide df into train and test\n",
    "train_ratio = 0.85\n",
    "data_len = len(data_with_lagged)\n",
    "train_size = int(data_len*train_ratio)\n",
    "\n",
    "train = data_with_lagged.iloc[:train_size]\n",
    "test = data_with_lagged.iloc[train_size:]"
   ]
  },
  {
   "cell_type": "code",
   "execution_count": 80,
   "metadata": {},
   "outputs": [],
   "source": [
    "#prepare labels\n",
    "train_y = train[\"var1(t)\"].values\n",
    "test_y = test[\"var1(t)\"].values\n",
    "\n",
    "train_y = train_y.reshape(len(train_y), 1)\n",
    "test_y = test_y.reshape(len(test_y), 1)"
   ]
  },
  {
   "cell_type": "code",
   "execution_count": 81,
   "metadata": {},
   "outputs": [
    {
     "data": {
      "text/plain": [
       "['saved/scaler.pkl']"
      ]
     },
     "execution_count": 81,
     "metadata": {},
     "output_type": "execute_result"
    }
   ],
   "source": [
    "#normalise features\n",
    "xscaler = MinMaxScaler(feature_range=(0, 1))\n",
    "train = xscaler.fit_transform(train)\n",
    "test = xscaler.transform(test)\n",
    "joblib.dump(xscaler, 'saved/scaler.pkl') "
   ]
  },
  {
   "cell_type": "code",
   "execution_count": 82,
   "metadata": {},
   "outputs": [],
   "source": [
    "#prepare data\n",
    "train_labels = train_y\n",
    "test_labels = test_y"
   ]
  },
  {
   "cell_type": "code",
   "execution_count": 83,
   "metadata": {},
   "outputs": [],
   "source": [
    "#remove the last set of values(data of time to be predicted)\n",
    "train = train[:, :total_features]\n",
    "test = test[:, :total_features]"
   ]
  },
  {
   "cell_type": "code",
   "execution_count": 84,
   "metadata": {},
   "outputs": [],
   "source": [
    "#keep only prices array\n",
    "train_X, train_y = train[:, :total_features], train_y[:, -1]\n",
    "test_X, test_y = test[:, :total_features], test_y[:, -1]"
   ]
  },
  {
   "cell_type": "code",
   "execution_count": 85,
   "metadata": {},
   "outputs": [],
   "source": [
    "# reshape input to be 3D [samples, timesteps, features]\n",
    "train_X = train_X.reshape((train_X.shape[0], n_lag, n_features))\n",
    "test_X = test_X.reshape((test_X.shape[0], n_lag, n_features))"
   ]
  },
  {
   "cell_type": "code",
   "execution_count": 86,
   "metadata": {},
   "outputs": [],
   "source": [
    "#set labels for training data to categorical\n",
    "train_y = keras.utils.to_categorical(train_y, 2)"
   ]
  },
  {
   "cell_type": "code",
   "execution_count": 87,
   "metadata": {},
   "outputs": [],
   "source": [
    "np.random.seed(1) \n",
    "tf.random.set_seed(1)\n",
    "\n",
    "# design network\n",
    "model = Sequential()\n",
    "neurons = 64\n",
    "epochs = 10000\n",
    "dropout = 0.25\n",
    "batch_size = 80\n",
    "activ_func = \"linear\"\n",
    "\n",
    "model.add(Bidirectional(LSTM(neurons, return_sequences=True, input_shape=(train_X.shape[1], train_X.shape[2]), activation=activ_func)))\n",
    "model.add(Dropout(dropout))\n",
    "\n",
    "model.add(Bidirectional(LSTM(neurons, return_sequences=False, activation=activ_func)))\n",
    "model.add(Dropout(dropout))\n",
    "\n",
    "model.add(Dense(2, activation=\"softmax\"))\n",
    "model.compile(loss='categorical_crossentropy', optimizer='adam', metrics=['accuracy'])"
   ]
  },
  {
   "cell_type": "code",
   "execution_count": 88,
   "metadata": {},
   "outputs": [
    {
     "name": "stdout",
     "output_type": "stream",
     "text": [
      "Epoch 1/10000\n",
      "4/4 - 4s - loss: 0.6946 - accuracy: 0.4917 - val_loss: 0.6818 - val_accuracy: 0.5526\n",
      "Epoch 2/10000\n",
      "4/4 - 0s - loss: 0.6875 - accuracy: 0.5415 - val_loss: 0.6810 - val_accuracy: 0.5526\n",
      "Epoch 3/10000\n",
      "4/4 - 0s - loss: 0.6924 - accuracy: 0.5216 - val_loss: 0.6809 - val_accuracy: 0.5658\n",
      "Epoch 4/10000\n",
      "4/4 - 0s - loss: 0.6891 - accuracy: 0.5382 - val_loss: 0.6798 - val_accuracy: 0.6184\n",
      "Epoch 5/10000\n",
      "4/4 - 0s - loss: 0.6866 - accuracy: 0.5515 - val_loss: 0.6806 - val_accuracy: 0.5526\n",
      "Epoch 6/10000\n",
      "4/4 - 0s - loss: 0.6891 - accuracy: 0.5216 - val_loss: 0.6785 - val_accuracy: 0.6053\n",
      "Epoch 7/10000\n",
      "4/4 - 0s - loss: 0.6873 - accuracy: 0.5116 - val_loss: 0.6780 - val_accuracy: 0.5921\n",
      "Epoch 8/10000\n",
      "4/4 - 0s - loss: 0.6857 - accuracy: 0.5548 - val_loss: 0.6789 - val_accuracy: 0.5789\n",
      "Epoch 9/10000\n",
      "4/4 - 0s - loss: 0.6821 - accuracy: 0.5615 - val_loss: 0.6806 - val_accuracy: 0.5526\n",
      "Epoch 10/10000\n",
      "4/4 - 0s - loss: 0.6859 - accuracy: 0.5449 - val_loss: 0.6764 - val_accuracy: 0.5526\n",
      "Epoch 11/10000\n",
      "4/4 - 0s - loss: 0.6839 - accuracy: 0.5581 - val_loss: 0.6753 - val_accuracy: 0.5658\n",
      "Epoch 12/10000\n",
      "4/4 - 0s - loss: 0.6818 - accuracy: 0.5482 - val_loss: 0.6739 - val_accuracy: 0.5658\n",
      "Epoch 13/10000\n",
      "4/4 - 0s - loss: 0.6813 - accuracy: 0.5681 - val_loss: 0.6758 - val_accuracy: 0.5658\n",
      "Epoch 14/10000\n",
      "4/4 - 0s - loss: 0.6825 - accuracy: 0.5648 - val_loss: 0.6786 - val_accuracy: 0.5658\n",
      "Epoch 15/10000\n",
      "4/4 - 0s - loss: 0.6785 - accuracy: 0.5648 - val_loss: 0.6756 - val_accuracy: 0.5395\n",
      "Epoch 16/10000\n",
      "4/4 - 0s - loss: 0.6799 - accuracy: 0.5814 - val_loss: 0.6747 - val_accuracy: 0.5921\n",
      "Epoch 17/10000\n",
      "4/4 - 0s - loss: 0.6813 - accuracy: 0.5781 - val_loss: 0.6745 - val_accuracy: 0.5658\n",
      "Epoch 18/10000\n",
      "4/4 - 0s - loss: 0.6840 - accuracy: 0.5382 - val_loss: 0.6763 - val_accuracy: 0.5395\n",
      "Epoch 19/10000\n",
      "4/4 - 0s - loss: 0.6753 - accuracy: 0.5681 - val_loss: 0.6746 - val_accuracy: 0.5658\n",
      "Epoch 20/10000\n",
      "4/4 - 0s - loss: 0.6755 - accuracy: 0.5714 - val_loss: 0.6758 - val_accuracy: 0.5658\n",
      "Epoch 21/10000\n",
      "4/4 - 0s - loss: 0.6723 - accuracy: 0.5714 - val_loss: 0.6769 - val_accuracy: 0.5263\n",
      "Epoch 22/10000\n",
      "4/4 - 0s - loss: 0.6713 - accuracy: 0.5548 - val_loss: 0.6781 - val_accuracy: 0.5658\n",
      "Epoch 23/10000\n",
      "4/4 - 0s - loss: 0.6757 - accuracy: 0.5449 - val_loss: 0.6767 - val_accuracy: 0.5526\n",
      "Epoch 24/10000\n",
      "4/4 - 0s - loss: 0.6779 - accuracy: 0.5814 - val_loss: 0.6764 - val_accuracy: 0.5658\n",
      "Epoch 25/10000\n",
      "4/4 - 0s - loss: 0.6721 - accuracy: 0.5648 - val_loss: 0.6782 - val_accuracy: 0.5395\n",
      "Epoch 26/10000\n",
      "4/4 - 0s - loss: 0.6737 - accuracy: 0.5714 - val_loss: 0.6775 - val_accuracy: 0.5526\n",
      "Epoch 27/10000\n",
      "4/4 - 0s - loss: 0.6711 - accuracy: 0.5814 - val_loss: 0.6773 - val_accuracy: 0.5526\n",
      "Epoch 28/10000\n",
      "4/4 - 0s - loss: 0.6722 - accuracy: 0.5847 - val_loss: 0.6782 - val_accuracy: 0.5526\n",
      "Epoch 29/10000\n",
      "4/4 - 0s - loss: 0.6687 - accuracy: 0.5914 - val_loss: 0.6804 - val_accuracy: 0.5658\n",
      "Epoch 30/10000\n",
      "4/4 - 0s - loss: 0.6670 - accuracy: 0.5914 - val_loss: 0.6809 - val_accuracy: 0.5526\n",
      "Epoch 31/10000\n",
      "4/4 - 0s - loss: 0.6721 - accuracy: 0.5781 - val_loss: 0.6815 - val_accuracy: 0.5789\n",
      "Epoch 32/10000\n",
      "4/4 - 0s - loss: 0.6662 - accuracy: 0.6080 - val_loss: 0.6823 - val_accuracy: 0.5658\n",
      "Epoch 33/10000\n",
      "4/4 - 0s - loss: 0.6653 - accuracy: 0.6080 - val_loss: 0.6822 - val_accuracy: 0.5789\n",
      "Epoch 34/10000\n",
      "4/4 - 0s - loss: 0.6619 - accuracy: 0.6213 - val_loss: 0.6841 - val_accuracy: 0.6316\n",
      "Epoch 35/10000\n",
      "4/4 - 0s - loss: 0.6629 - accuracy: 0.5714 - val_loss: 0.6844 - val_accuracy: 0.6053\n",
      "Epoch 36/10000\n",
      "4/4 - 0s - loss: 0.6733 - accuracy: 0.5615 - val_loss: 0.6864 - val_accuracy: 0.5921\n",
      "Epoch 37/10000\n",
      "4/4 - 0s - loss: 0.6701 - accuracy: 0.5980 - val_loss: 0.6842 - val_accuracy: 0.5526\n",
      "Epoch 38/10000\n",
      "4/4 - 0s - loss: 0.6636 - accuracy: 0.6013 - val_loss: 0.6872 - val_accuracy: 0.5921\n",
      "Epoch 39/10000\n",
      "4/4 - 0s - loss: 0.6602 - accuracy: 0.5681 - val_loss: 0.6837 - val_accuracy: 0.5921\n",
      "Epoch 40/10000\n",
      "4/4 - 0s - loss: 0.6602 - accuracy: 0.6080 - val_loss: 0.6855 - val_accuracy: 0.6184\n",
      "Epoch 41/10000\n",
      "4/4 - 0s - loss: 0.6639 - accuracy: 0.6013 - val_loss: 0.6876 - val_accuracy: 0.5921\n",
      "Epoch 42/10000\n",
      "4/4 - 0s - loss: 0.6764 - accuracy: 0.5648 - val_loss: 0.6924 - val_accuracy: 0.5921\n",
      "Epoch 43/10000\n",
      "4/4 - 0s - loss: 0.6572 - accuracy: 0.5914 - val_loss: 0.6963 - val_accuracy: 0.5263\n",
      "Epoch 44/10000\n",
      "4/4 - 0s - loss: 0.6641 - accuracy: 0.6246 - val_loss: 0.6909 - val_accuracy: 0.5921\n",
      "Epoch 45/10000\n",
      "4/4 - 0s - loss: 0.6765 - accuracy: 0.5548 - val_loss: 0.6939 - val_accuracy: 0.5921\n",
      "Epoch 46/10000\n",
      "4/4 - 0s - loss: 0.6535 - accuracy: 0.5847 - val_loss: 0.6942 - val_accuracy: 0.5263\n",
      "Epoch 47/10000\n",
      "4/4 - 0s - loss: 0.6675 - accuracy: 0.5814 - val_loss: 0.6903 - val_accuracy: 0.5395\n",
      "Epoch 48/10000\n",
      "4/4 - 0s - loss: 0.6554 - accuracy: 0.6113 - val_loss: 0.6976 - val_accuracy: 0.5658\n",
      "Epoch 49/10000\n",
      "4/4 - 0s - loss: 0.6627 - accuracy: 0.5847 - val_loss: 0.6916 - val_accuracy: 0.5658\n",
      "Epoch 50/10000\n",
      "4/4 - 0s - loss: 0.6574 - accuracy: 0.6013 - val_loss: 0.6893 - val_accuracy: 0.5395\n",
      "Epoch 51/10000\n",
      "4/4 - 0s - loss: 0.6550 - accuracy: 0.6013 - val_loss: 0.6905 - val_accuracy: 0.5789\n",
      "Epoch 52/10000\n",
      "4/4 - 0s - loss: 0.6587 - accuracy: 0.6047 - val_loss: 0.6962 - val_accuracy: 0.5658\n",
      "Epoch 53/10000\n",
      "4/4 - 0s - loss: 0.6601 - accuracy: 0.5814 - val_loss: 0.6927 - val_accuracy: 0.5395\n",
      "Epoch 54/10000\n",
      "4/4 - 0s - loss: 0.6557 - accuracy: 0.6013 - val_loss: 0.6963 - val_accuracy: 0.5789\n",
      "Epoch 55/10000\n",
      "4/4 - 0s - loss: 0.6557 - accuracy: 0.5781 - val_loss: 0.7049 - val_accuracy: 0.5526\n",
      "Epoch 56/10000\n",
      "4/4 - 0s - loss: 0.6526 - accuracy: 0.6179 - val_loss: 0.7004 - val_accuracy: 0.5132\n",
      "Epoch 57/10000\n",
      "4/4 - 0s - loss: 0.6627 - accuracy: 0.6080 - val_loss: 0.6986 - val_accuracy: 0.5526\n",
      "Epoch 58/10000\n",
      "4/4 - 0s - loss: 0.6571 - accuracy: 0.5880 - val_loss: 0.7038 - val_accuracy: 0.5263\n",
      "Epoch 59/10000\n",
      "4/4 - 0s - loss: 0.6570 - accuracy: 0.5781 - val_loss: 0.6992 - val_accuracy: 0.5132\n",
      "Epoch 60/10000\n",
      "4/4 - 0s - loss: 0.6483 - accuracy: 0.5880 - val_loss: 0.6958 - val_accuracy: 0.5132\n",
      "Epoch 61/10000\n",
      "4/4 - 0s - loss: 0.6559 - accuracy: 0.5880 - val_loss: 0.6978 - val_accuracy: 0.5000\n",
      "Epoch 62/10000\n",
      "4/4 - 0s - loss: 0.6557 - accuracy: 0.5947 - val_loss: 0.6997 - val_accuracy: 0.5000\n"
     ]
    }
   ],
   "source": [
    "# early stopping\n",
    "callback = keras.callbacks.EarlyStopping(monitor='val_loss', patience =50)\n",
    "\n",
    "# fit network\n",
    "history = model.fit(train_X, train_y, epochs=10000, batch_size=batch_size, verbose=2, shuffle=True,validation_split=0.2, callbacks=[callback])"
   ]
  },
  {
   "cell_type": "code",
   "execution_count": null,
   "metadata": {},
   "outputs": [],
   "source": [
    "#save model\n",
    "model.save(\"saved/ckpt\")"
   ]
  },
  {
   "cell_type": "code",
   "execution_count": 89,
   "metadata": {},
   "outputs": [
    {
     "name": "stdout",
     "output_type": "stream",
     "text": [
      "('Failed to import pydot. You must `pip install pydot` and install graphviz (https://graphviz.gitlab.io/download/), ', 'for `pydotprint` to work.')\n"
     ]
    }
   ],
   "source": [
    "#save model\n",
    "model_file = 'model.png'\n",
    "tf.keras.utils.plot_model(model, to_file=model_file, show_shapes=True)"
   ]
  },
  {
   "cell_type": "code",
   "execution_count": 90,
   "metadata": {},
   "outputs": [
    {
     "data": {
      "image/png": "[encoded data removed]",
      "text/plain": [
       "<Figure size 432x288 with 1 Axes>"
      ]
     },
     "metadata": {
      "needs_background": "light"
     },
     "output_type": "display_data"
    }
   ],
   "source": [
    "#plot loss graph\n",
    "plt.plot(history.history['loss'], label='train')\n",
    "plt.plot(history.history['val_loss'], label='test')\n",
    "plt.legend()\n",
    "plt.title(\"Loss graph\")\n",
    "plt.show()"
   ]
  },
  {
   "cell_type": "code",
   "execution_count": 91,
   "metadata": {},
   "outputs": [
    {
     "data": {
      "image/png": "[encoded data removed]",
      "text/plain": [
       "<Figure size 432x288 with 1 Axes>"
      ]
     },
     "metadata": {
      "needs_background": "light"
     },
     "output_type": "display_data"
    }
   ],
   "source": [
    "#plot training and validation accuracy\n",
    "loss_train = history.history['accuracy']\n",
    "loss_val = history.history['val_accuracy']\n",
    "epochs = range(1,len(loss_val) + 1)\n",
    "plt.plot(epochs, loss_train, 'g', label='Training accuracy')\n",
    "plt.plot(epochs, loss_val, 'b', label='validation accuracy')\n",
    "plt.title('Training and Validation accuracy')\n",
    "plt.xlabel('Epochs')\n",
    "plt.ylabel('Accuracy')\n",
    "plt.legend()\n",
    "plt.show()"
   ]
  },
  {
   "cell_type": "code",
   "execution_count": 92,
   "metadata": {},
   "outputs": [],
   "source": [
    "#reshape\n",
    "test_X = test_X.reshape((test_X.shape[0], n_lag, n_features))\n",
    "\n",
    "#predict values for test data\n",
    "pred = model.predict(test_X)\n",
    "\n",
    "#reshape again\n",
    "test_X = test_X.reshape((test_X.shape[0], n_lag* n_features,))"
   ]
  },
  {
   "cell_type": "code",
   "execution_count": 93,
   "metadata": {},
   "outputs": [],
   "source": [
    "#change back from categorical\n",
    "pred = np.argmax(pred, axis=1)"
   ]
  },
  {
   "cell_type": "code",
   "execution_count": 94,
   "metadata": {},
   "outputs": [
    {
     "name": "stdout",
     "output_type": "stream",
     "text": [
      "Accuracy =  0.6417910447761194\n"
     ]
    }
   ],
   "source": [
    "#calculate accuracy\n",
    "prices = pd.DataFrame()\n",
    "prices[\"Actual\"] = test_y\n",
    "prices[\"Predicted\"] = pred\n",
    "\n",
    "prices[\"Correct\"] = (prices[\"Actual\"] - prices[\"Predicted\"]) == 0\n",
    "incorrect = prices.loc[prices['Correct'] == False]\n",
    "incorrect_len = len(incorrect)\n",
    "prices_len = len(prices)\n",
    "\n",
    "print(\"Accuracy = \",((prices_len-incorrect_len)/prices_len))"
   ]
  },
  {
   "cell_type": "code",
   "execution_count": 95,
   "metadata": {},
   "outputs": [
    {
     "data": {
      "text/plain": [
       "{'0': {'precision': 0.76,\n",
       "  'recall': 0.5135135135135135,\n",
       "  'f1-score': 0.6129032258064517,\n",
       "  'support': 37},\n",
       " '1': {'precision': 0.5714285714285714,\n",
       "  'recall': 0.8,\n",
       "  'f1-score': 0.6666666666666666,\n",
       "  'support': 30},\n",
       " 'accuracy': 0.6417910447761194,\n",
       " 'macro avg': {'precision': 0.6657142857142857,\n",
       "  'recall': 0.6567567567567567,\n",
       "  'f1-score': 0.6397849462365592,\n",
       "  'support': 67},\n",
       " 'weighted avg': {'precision': 0.6755650319829425,\n",
       "  'recall': 0.6417910447761194,\n",
       "  'f1-score': 0.6369764082811749,\n",
       "  'support': 67}}"
      ]
     },
     "execution_count": 95,
     "metadata": {},
     "output_type": "execute_result"
    }
   ],
   "source": [
    "sklearn.metrics.classification_report(test_y, pred, zero_division=0,output_dict=True)"
   ]
  },
  {
   "cell_type": "code",
   "execution_count": null,
   "metadata": {},
   "outputs": [],
   "source": []
  }
 ],
 "metadata": {
  "kernelspec": {
   "display_name": "Python 3",
   "language": "python",
   "name": "python3"
  },
  "language_info": {
   "codemirror_mode": {
    "name": "ipython",
    "version": 3
   },
   "file_extension": ".py",
   "mimetype": "text/x-python",
   "name": "python",
   "nbconvert_exporter": "python",
   "pygments_lexer": "ipython3",
   "version": "3.7.4"
  }
 },
 "nbformat": 4,
 "nbformat_minor": 4
}
